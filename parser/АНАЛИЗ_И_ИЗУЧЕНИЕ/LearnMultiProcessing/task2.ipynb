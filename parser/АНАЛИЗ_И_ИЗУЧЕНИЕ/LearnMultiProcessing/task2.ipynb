{
 "cells": [
  {
   "cell_type": "markdown",
   "id": "97c679f1",
   "metadata": {},
   "source": [
    "Условие: скачать информацию о нескольки продуктах и сохранить в data. Ну допустим просто надо создать JSON в котором название фрукта и ссылка на источник...  \n",
    "- https://fitaudit.ru/categories/fds\n",
    "\n",
    "Оформите решение в виде двух функций: с использованием Pool и ThreadPool...\n",
    "\n",
    "Замерьте время работы каждой из них и сравните результаты.\n",
    "\n"
   ]
  },
  {
   "cell_type": "code",
   "execution_count": 1,
   "id": "19a2c1f8",
   "metadata": {},
   "outputs": [],
   "source": [
    "NUMBER_FRUITE = 30"
   ]
  },
  {
   "cell_type": "code",
   "execution_count": 4,
   "id": "8eeef012",
   "metadata": {},
   "outputs": [],
   "source": [
    "import requests\n",
    "from fake_useragent import UserAgent\n",
    "import os\n",
    "\n",
    "url = \"https://fitaudit.ru/categories/fds\"\n",
    "user = UserAgent().random\n",
    "header = {\"Accept\" : \"*/*\",\n",
    "          \"User-Agent\" : user}\n",
    "\n",
    "response = requests.get(url= url,\n",
    "                        headers= header).text"
   ]
  },
  {
   "cell_type": "code",
   "execution_count": 5,
   "id": "23f9b6ef",
   "metadata": {},
   "outputs": [],
   "source": [
    "DIR_NAME = \"data\"\n",
    "DIR_PATH = os.path.join(os.getcwd(), DIR_NAME)\n",
    "\n",
    "if not os.path.isdir(DIR_PATH):\n",
    "    os.mkdir(DIR_PATH)\n",
    "\n",
    "\n",
    "FRUITS_PATH = os.path.join(DIR_PATH, 'fruits.html')\n",
    "\n",
    "if not os.path.isfile(FRUITS_PATH):\n",
    "    with open(FRUITS_PATH, 'w') as f:\n",
    "        f.write(response)\n",
    "    print(\"Запись в файл произошла успешно!\")"
   ]
  },
  {
   "cell_type": "code",
   "execution_count": 6,
   "id": "15484bb4",
   "metadata": {},
   "outputs": [
    {
     "data": {
      "text/plain": [
       "{'Абрикосы (консервированные)': 'https://fitaudit.ru/food/115520'}"
      ]
     },
     "execution_count": 6,
     "metadata": {},
     "output_type": "execute_result"
    }
   ],
   "source": [
    "from bs4 import BeautifulSoup\n",
    "\n",
    "def search_one_fruit(path, i):\n",
    "    html = None\n",
    "    with open(path) as f:\n",
    "        html = f.read()\n",
    "    \n",
    "    soup = BeautifulSoup(markup= html,\n",
    "                         features= 'lxml')\n",
    "    \n",
    "    fruit = soup.find(\"div\", id= \"frts\").next_sibling.next_sibling.find_all('li')[i]\n",
    "    fruit:BeautifulSoup\n",
    "    \n",
    "    href = fruit.find(\"a\").get(\"href\")\n",
    "    name = fruit.find(\"a\").get(\"title\")\n",
    "    return {name : href}\n",
    "\n",
    "search_one_fruit(FRUITS_PATH, 1)"
   ]
  },
  {
   "cell_type": "code",
   "execution_count": 7,
   "id": "83366921",
   "metadata": {},
   "outputs": [
    {
     "name": "stdout",
     "output_type": "stream",
     "text": [
      "TIME (JUST) = 3.4096827507019043\n"
     ]
    },
    {
     "data": {
      "text/plain": [
       "[{'Абрикос (свежий)': 'https://fitaudit.ru/food/114512'},\n",
       " {'Абрикосы (консервированные)': 'https://fitaudit.ru/food/115520'},\n",
       " {'Айва (свежая)': 'https://fitaudit.ru/food/114337'},\n",
       " {'Апельсины (свежие)': 'https://fitaudit.ru/food/114159'},\n",
       " {'Арбуз (свежий)': 'https://fitaudit.ru/food/114427'},\n",
       " {'Бананы (свежие)': 'https://fitaudit.ru/food/114679'},\n",
       " {'Гранат (свежий)': 'https://fitaudit.ru/food/114307'},\n",
       " {'Грейпфрут (свежий)': 'https://fitaudit.ru/food/114885'},\n",
       " {'Груша (консервированная)': 'https://fitaudit.ru/food/115671'},\n",
       " {'Груша (свежая)': 'https://fitaudit.ru/food/114205'},\n",
       " {'Груша Конференция (свежая)': 'https://fitaudit.ru/food/115791'},\n",
       " {'Дыня (свежая)': 'https://fitaudit.ru/food/114001'},\n",
       " {'Дыня Канталупа (свежая)': 'https://fitaudit.ru/food/114092'},\n",
       " {'Инжир (свежий)': 'https://fitaudit.ru/food/114716'},\n",
       " {'Киви (свежий)': 'https://fitaudit.ru/food/114993'},\n",
       " {'Лайм (свежий)': 'https://fitaudit.ru/food/114926'},\n",
       " {'Лимон (свежий, без кожуры)': 'https://fitaudit.ru/food/114909'},\n",
       " {'Мандарины (свежие)': 'https://fitaudit.ru/food/114103'},\n",
       " {'Маслины (консервированные)': 'https://fitaudit.ru/food/114031'},\n",
       " {'Нектарины (свежие)': 'https://fitaudit.ru/food/114022'},\n",
       " {'Оливки зелёные (консервированные)': 'https://fitaudit.ru/food/114034'},\n",
       " {'Персик (свежие, без косточек)': 'https://fitaudit.ru/food/114257'},\n",
       " {'Персики консервированные': 'https://fitaudit.ru/food/115669'},\n",
       " {'Слива (свежая)': 'https://fitaudit.ru/food/114386'},\n",
       " {'Хурма (свежая)': 'https://fitaudit.ru/food/114244'},\n",
       " {'Цедра апельсина (кожура) (свежая)': 'https://fitaudit.ru/food/114197'},\n",
       " {'Цедра лимона (кожура) (свежая)': 'https://fitaudit.ru/food/114917'},\n",
       " {'Яблоки (свежие)': 'https://fitaudit.ru/food/114558'},\n",
       " {'Яблоки (запечённые)': 'https://fitaudit.ru/food/114567'},\n",
       " {'Яблоки Голден (свежие)': 'https://fitaudit.ru/food/115052'}]"
      ]
     },
     "execution_count": 7,
     "metadata": {},
     "output_type": "execute_result"
    }
   ],
   "source": [
    "from time import time\n",
    "\n",
    "start = time()\n",
    "fruits = []\n",
    "for i in range(NUMBER_FRUITE):\n",
    "    fruits.append(search_one_fruit(FRUITS_PATH, i))\n",
    "end = time()\n",
    "print(f\"TIME (JUST) = {end - start}\")\n",
    "fruits"
   ]
  },
  {
   "cell_type": "code",
   "execution_count": null,
   "id": "444f86f2",
   "metadata": {},
   "outputs": [
    {
     "name": "stdout",
     "output_type": "stream",
     "text": [
      "TIME (POOL) = 0.7089955806732178\n"
     ]
    },
    {
     "data": {
      "text/plain": [
       "[{'Абрикос (свежий)': 'https://fitaudit.ru/food/114512'},\n",
       " {'Абрикосы (консервированные)': 'https://fitaudit.ru/food/115520'},\n",
       " {'Айва (свежая)': 'https://fitaudit.ru/food/114337'},\n",
       " {'Апельсины (свежие)': 'https://fitaudit.ru/food/114159'},\n",
       " {'Арбуз (свежий)': 'https://fitaudit.ru/food/114427'},\n",
       " {'Бананы (свежие)': 'https://fitaudit.ru/food/114679'},\n",
       " {'Гранат (свежий)': 'https://fitaudit.ru/food/114307'},\n",
       " {'Грейпфрут (свежий)': 'https://fitaudit.ru/food/114885'},\n",
       " {'Груша (консервированная)': 'https://fitaudit.ru/food/115671'},\n",
       " {'Груша (свежая)': 'https://fitaudit.ru/food/114205'},\n",
       " {'Груша Конференция (свежая)': 'https://fitaudit.ru/food/115791'},\n",
       " {'Дыня (свежая)': 'https://fitaudit.ru/food/114001'},\n",
       " {'Дыня Канталупа (свежая)': 'https://fitaudit.ru/food/114092'},\n",
       " {'Инжир (свежий)': 'https://fitaudit.ru/food/114716'},\n",
       " {'Киви (свежий)': 'https://fitaudit.ru/food/114993'},\n",
       " {'Лайм (свежий)': 'https://fitaudit.ru/food/114926'},\n",
       " {'Лимон (свежий, без кожуры)': 'https://fitaudit.ru/food/114909'},\n",
       " {'Мандарины (свежие)': 'https://fitaudit.ru/food/114103'},\n",
       " {'Маслины (консервированные)': 'https://fitaudit.ru/food/114031'},\n",
       " {'Нектарины (свежие)': 'https://fitaudit.ru/food/114022'},\n",
       " {'Оливки зелёные (консервированные)': 'https://fitaudit.ru/food/114034'},\n",
       " {'Персик (свежие, без косточек)': 'https://fitaudit.ru/food/114257'},\n",
       " {'Персики консервированные': 'https://fitaudit.ru/food/115669'},\n",
       " {'Слива (свежая)': 'https://fitaudit.ru/food/114386'},\n",
       " {'Хурма (свежая)': 'https://fitaudit.ru/food/114244'},\n",
       " {'Цедра апельсина (кожура) (свежая)': 'https://fitaudit.ru/food/114197'},\n",
       " {'Цедра лимона (кожура) (свежая)': 'https://fitaudit.ru/food/114917'},\n",
       " {'Яблоки (свежие)': 'https://fitaudit.ru/food/114558'},\n",
       " {'Яблоки (запечённые)': 'https://fitaudit.ru/food/114567'},\n",
       " {'Яблоки Голден (свежие)': 'https://fitaudit.ru/food/115052'}]"
      ]
     },
     "execution_count": 11,
     "metadata": {},
     "output_type": "execute_result"
    }
   ],
   "source": [
    "from multiprocessing import Pool, cpu_count\n",
    "\n",
    "start = time()\n",
    "\n",
    "results = []\n",
    "\n",
    "with Pool(processes= cpu_count()) as pool:\n",
    "    result = (pool.starmap_async(func= search_one_fruit, iterable= [(FRUITS_PATH, i) for i in range(NUMBER_FRUITE)]))\n",
    "    results = result.get()\n",
    "end = time()\n",
    "\n",
    "print(f\"TIME (POOL) = {end - start}\")\n",
    "results"
   ]
  },
  {
   "cell_type": "code",
   "execution_count": 13,
   "id": "dbf94f64",
   "metadata": {},
   "outputs": [
    {
     "name": "stdout",
     "output_type": "stream",
     "text": [
      "TIME (ThreadPool) 9.171874761581421\n"
     ]
    },
    {
     "data": {
      "text/plain": [
       "[{'Абрикос (свежий)': 'https://fitaudit.ru/food/114512'},\n",
       " {'Абрикосы (консервированные)': 'https://fitaudit.ru/food/115520'},\n",
       " {'Айва (свежая)': 'https://fitaudit.ru/food/114337'},\n",
       " {'Апельсины (свежие)': 'https://fitaudit.ru/food/114159'},\n",
       " {'Арбуз (свежий)': 'https://fitaudit.ru/food/114427'},\n",
       " {'Бананы (свежие)': 'https://fitaudit.ru/food/114679'},\n",
       " {'Гранат (свежий)': 'https://fitaudit.ru/food/114307'},\n",
       " {'Грейпфрут (свежий)': 'https://fitaudit.ru/food/114885'},\n",
       " {'Груша (консервированная)': 'https://fitaudit.ru/food/115671'},\n",
       " {'Груша (свежая)': 'https://fitaudit.ru/food/114205'},\n",
       " {'Груша Конференция (свежая)': 'https://fitaudit.ru/food/115791'},\n",
       " {'Дыня (свежая)': 'https://fitaudit.ru/food/114001'},\n",
       " {'Дыня Канталупа (свежая)': 'https://fitaudit.ru/food/114092'},\n",
       " {'Инжир (свежий)': 'https://fitaudit.ru/food/114716'},\n",
       " {'Киви (свежий)': 'https://fitaudit.ru/food/114993'},\n",
       " {'Лайм (свежий)': 'https://fitaudit.ru/food/114926'},\n",
       " {'Лимон (свежий, без кожуры)': 'https://fitaudit.ru/food/114909'},\n",
       " {'Мандарины (свежие)': 'https://fitaudit.ru/food/114103'},\n",
       " {'Маслины (консервированные)': 'https://fitaudit.ru/food/114031'},\n",
       " {'Нектарины (свежие)': 'https://fitaudit.ru/food/114022'},\n",
       " {'Оливки зелёные (консервированные)': 'https://fitaudit.ru/food/114034'},\n",
       " {'Персик (свежие, без косточек)': 'https://fitaudit.ru/food/114257'},\n",
       " {'Персики консервированные': 'https://fitaudit.ru/food/115669'},\n",
       " {'Слива (свежая)': 'https://fitaudit.ru/food/114386'},\n",
       " {'Хурма (свежая)': 'https://fitaudit.ru/food/114244'},\n",
       " {'Цедра апельсина (кожура) (свежая)': 'https://fitaudit.ru/food/114197'},\n",
       " {'Цедра лимона (кожура) (свежая)': 'https://fitaudit.ru/food/114917'},\n",
       " {'Яблоки (свежие)': 'https://fitaudit.ru/food/114558'},\n",
       " {'Яблоки (запечённые)': 'https://fitaudit.ru/food/114567'},\n",
       " {'Яблоки Голден (свежие)': 'https://fitaudit.ru/food/115052'}]"
      ]
     },
     "execution_count": 13,
     "metadata": {},
     "output_type": "execute_result"
    }
   ],
   "source": [
    "from multiprocessing.pool import ThreadPool\n",
    "\n",
    "results = []\n",
    "\n",
    "start = time()\n",
    "with ThreadPool(processes= cpu_count() * 10) as pool:\n",
    "    result = pool.starmap_async(func= search_one_fruit, iterable= [(FRUITS_PATH, i) for i in range(NUMBER_FRUITE)])\n",
    "    results = result.get()\n",
    "end = time()\n",
    "\n",
    "print(f\"TIME (ThreadPool)\", end - start)\n",
    "\n",
    "results"
   ]
  }
 ],
 "metadata": {
  "kernelspec": {
   "display_name": "Python 3",
   "language": "python",
   "name": "python3"
  },
  "language_info": {
   "codemirror_mode": {
    "name": "ipython",
    "version": 3
   },
   "file_extension": ".py",
   "mimetype": "text/x-python",
   "name": "python",
   "nbconvert_exporter": "python",
   "pygments_lexer": "ipython3",
   "version": "3.10.6"
  }
 },
 "nbformat": 4,
 "nbformat_minor": 5
}
